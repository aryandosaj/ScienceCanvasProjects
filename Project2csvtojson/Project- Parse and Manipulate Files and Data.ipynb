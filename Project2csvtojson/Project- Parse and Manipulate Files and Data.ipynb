{
 "cells": [
  {
   "cell_type": "markdown",
   "metadata": {},
   "source": [
    "### Data Analysis Project: Parsing & Manipulation of CSV & JSON\n",
    "    ##########################################################################################\n",
    "    Objective: Parse a CSV file and convert it to JSON\n",
    "    ##########################################################################################\n",
    "\n",
    "The dataset provided contains European Soccer Data. The file ‘players.csv’ contains players playing the European soccer leagues. The file contains player ratings and features across multiple columns captured at different instances in time. \n",
    "\n",
    "In this project you are required to read in the csv file and output a json that is structured like:\n"
   ]
  },
  {
   "cell_type": "markdown",
   "metadata": {},
   "source": [
    "### Add json blocks corresponding to each row in csv\n",
    "\n",
    "    player_fifa_api_id - player\n",
    "    each player will have a json block. \n",
    "    attributes - list of attributes as in csv : # overall_rating,potential,.......,gk_reflexes"
   ]
  },
  {
   "cell_type": "markdown",
   "metadata": {},
   "source": [
    "### Format"
   ]
  },
  {
   "cell_type": "code",
   "execution_count": 13,
   "metadata": {
    "collapsed": false
   },
   "outputs": [
    {
     "data": {
      "text/plain": [
       "[{'player': 218353,\n",
       "  'player_record': {'attributes': [{'attribute1': 'value'},\n",
       "    {'attribute2': 'value'}],\n",
       "   'date_recorded': 'mm / dd / yyyy'}},\n",
       " {'player': 218353,\n",
       "  'player_record': {'attributes': [{'overall_rating': 'value'},\n",
       "    {'potential': 'value'}],\n",
       "   'date_recorded': 'mm / dd / yyyy'}}]"
      ]
     },
     "execution_count": 13,
     "metadata": {},
     "output_type": "execute_result"
    }
   ],
   "source": [
    "# Json Structure\n",
    "\n",
    "[{\n",
    "\t\t\"player\": 218353, # player_fifa_api_id\n",
    "\t\t\"player_record\": {\n",
    "\t\t\t\"date_recorded\": \"mm / dd / yyyy\", # date\n",
    "\t\t\t\"attributes\": [{ \n",
    "\t\t\t\t\t\"attribute1\": \"value\" # overall_rating\n",
    "\t\t\t\t},\n",
    "\t\t\t\t{\n",
    "\t\t\t\t\t\"attribute2\": \"value\" # potential \n",
    "\t\t\t\t}\n",
    "                           ## add all attributes\n",
    "\t\t\t]\n",
    "\t\t}\n",
    "\n",
    "\t},\n",
    "\t{\n",
    "\t\t\"player\": 218353,\n",
    "\t\t\"player_record\": {\n",
    "\t\t\t\"date_recorded\": \"mm / dd / yyyy\",\n",
    "\t\t\t\"attributes\": [{\n",
    "\t\t\t\t\t\"overall_rating\": \"value\"\n",
    "\t\t\t\t},\n",
    "\t\t\t\t{\n",
    "\t\t\t\t\t\"potential\": \"value\"\n",
    "                    \n",
    "\t\t\t\t}\n",
    "                           \n",
    "                           \n",
    "\t\t\t]\n",
    "\t\t}\n",
    "\n",
    "\n",
    "\t}\n",
    "]\n"
   ]
  },
  {
   "cell_type": "code",
   "execution_count": 11,
   "metadata": {
    "collapsed": true
   },
   "outputs": [],
   "source": [
    "#### Code here"
   ]
  },
  {
   "cell_type": "code",
   "execution_count": null,
   "metadata": {
    "collapsed": true
   },
   "outputs": [],
   "source": []
  },
  {
   "cell_type": "markdown",
   "metadata": {},
   "source": [
    "## Submit the output as json file "
   ]
  },
  {
   "cell_type": "markdown",
   "metadata": {},
   "source": [
    "## Extend the project to combine players information in 1 block"
   ]
  },
  {
   "cell_type": "markdown",
   "metadata": {},
   "source": [
    "    player_fifa_api_id - player\n",
    "    each player will have only 1 json block. \n",
    "    date_recorded_min - min(date)\n",
    "    date_recorded_max - max(date)\n",
    "    attributes - list of attributes as in csv : # overall_rating,potential,.......,gk_reflexes"
   ]
  },
  {
   "cell_type": "code",
   "execution_count": 8,
   "metadata": {
    "collapsed": false
   },
   "outputs": [
    {
     "data": {
      "text/plain": [
       "[{'player': 218353,\n",
       "  'player_record': {'attributes': [{'overall_rating': ['val1',\n",
       "      'val2',\n",
       "      '',\n",
       "      '',\n",
       "      '',\n",
       "      'valn']},\n",
       "    {'potential': ['val1', 'val2', '', '', 'valn']}],\n",
       "   'date_recorded_max': 'mm / dd / yyyy',\n",
       "   'date_recorded_min': 'mm / dd / yyyy'}},\n",
       " {'player': 189615,\n",
       "  'player_record': {'attributes': [{'overall_rating': ['val1',\n",
       "      'val2',\n",
       "      '',\n",
       "      '',\n",
       "      '',\n",
       "      'valn']},\n",
       "    {'potential': ['val1', 'val2', '', '', 'valn']}],\n",
       "   'date_recorded_max': 'mm / dd / yyyy',\n",
       "   'date_recorded_min': 'mm / dd / yyyy'}}]"
      ]
     },
     "execution_count": 8,
     "metadata": {},
     "output_type": "execute_result"
    }
   ],
   "source": [
    "# Json Structure\n",
    "\n",
    "[{\n",
    "\t\t\"player\": 218353, # player_fifa_api_id\n",
    "\t\t\"player_record\": {\n",
    "\t\t\t\"date_recorded_min\": \"mm / dd / yyyy\", # date\n",
    "            \"date_recorded_max\": \"mm / dd / yyyy\", # date\n",
    "\t\t\t\"attributes\": [{ \n",
    "\t\t\t\t\t\"overall_rating\": [\"val1\", \"val2\",\"\",\"\",\"\",\"valn\"] # overall_rating\n",
    "\t\t\t\t},\n",
    "\t\t\t\t{\n",
    "\t\t\t\t\t\"potential\": [\"val1\", \"val2\",\"\",\"\",\"valn\"] # potential \n",
    "\t\t\t\t}\n",
    "\t\t\t]\n",
    "\t\t}\n",
    "\n",
    "\t},\n",
    " {\n",
    "\t\t\"player\": 189615, # player_fifa_api_id\n",
    "\t\t\"player_record\": {\n",
    "\t\t\t\"date_recorded_min\": \"mm / dd / yyyy\", # date\n",
    "            \"date_recorded_max\": \"mm / dd / yyyy\", # date\n",
    "\t\t\t\"attributes\": [{ \n",
    "\t\t\t\t\t\"overall_rating\": [\"val1\", \"val2\",\"\",\"\",\"\",\"valn\"] # overall_rating\n",
    "\t\t\t\t},\n",
    "\t\t\t\t{\n",
    "\t\t\t\t\t\"potential\": [\"val1\", \"val2\",\"\",\"\",\"valn\"] # potential \n",
    "\t\t\t\t}\n",
    "\t\t\t]\n",
    "\t\t}\n",
    "\n",
    "\t}\n",
    " \n",
    "]"
   ]
  },
  {
   "cell_type": "code",
   "execution_count": 12,
   "metadata": {
    "collapsed": true
   },
   "outputs": [],
   "source": [
    "#### Code here"
   ]
  },
  {
   "cell_type": "markdown",
   "metadata": {},
   "source": [
    "## Design your own structure"
   ]
  },
  {
   "cell_type": "code",
   "execution_count": 10,
   "metadata": {
    "collapsed": true
   },
   "outputs": [],
   "source": [
    "#### Code here"
   ]
  },
  {
   "cell_type": "code",
   "execution_count": null,
   "metadata": {
    "collapsed": true
   },
   "outputs": [],
   "source": []
  }
 ],
 "metadata": {
  "kernelspec": {
   "display_name": "Python 2",
   "language": "python",
   "name": "python2"
  },
  "language_info": {
   "codemirror_mode": {
    "name": "ipython",
    "version": 2
   },
   "file_extension": ".py",
   "mimetype": "text/x-python",
   "name": "python",
   "nbconvert_exporter": "python",
   "pygments_lexer": "ipython2",
   "version": "2.7.12"
  }
 },
 "nbformat": 4,
 "nbformat_minor": 0
}
